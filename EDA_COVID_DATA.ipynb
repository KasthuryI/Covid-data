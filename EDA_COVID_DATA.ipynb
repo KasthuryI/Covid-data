{
 "cells": [
  {
   "cell_type": "markdown",
   "metadata": {},
   "source": [
    "#                          <font color=\"#5B00FF\"> **EDA (Exploratory Data Analysis) Covid-data** </font>\n",
    "\n",
    "<br>"
   ]
  },
  {
   "cell_type": "markdown",
   "metadata": {},
   "source": [
    "##### **Deze casus (Covid-data) heeft 2 datasets: patienten data (*covid_patienten_export.tsv*) en meetgegevens (*covid_meetgegevens_export.tsv*). De dataset bestaat uit (zoals de naam al zegt) gegevens van patienten met het Covid virus.** <br><br>"
   ]
  },
  {
   "cell_type": "markdown",
   "metadata": {},
   "source": [
    "_________________________________________________________________________________________________________________________________________________\n",
    "## <font color=\"803AFF\"> **De datasets** </font>"
   ]
  },
  {
   "cell_type": "code",
   "execution_count": 395,
   "metadata": {},
   "outputs": [
    {
     "name": "stdout",
     "output_type": "stream",
     "text": [
      "covid_patienten_export.tsv:    PATIENT_ID BRUIKBAAR  LIGTIJD  LEEFTIJD GESLACHT  LENGTE  GEWICHT  \\\n",
      "0         101        ja     21.0      74.0        m   175.0     87.0   \n",
      "\n",
      "   APACHE_IV_SCORE IN_LEVEN_3_MAANDEN IN_LEVEN_6_MAANDEN  \n",
      "0               69                nee                nee  \n",
      "covid_meetgegevens_export.tsv:    PATIENT_ID  MEETDATUM  VCO2_MLMIN  EE_BEADEMINGSMACH  VOEDING_ML24H  \\\n",
      "0       160.0  30-NOV-20         257            2104.83         1752.0   \n",
      "\n",
      "   MAAGRETENTIE_ML24H  PROPOFOL_ML24H BUIKLIGGING  ID  \n",
      "0                 0.0           160.0         rug   1  \n"
     ]
    }
   ],
   "source": [
    "# Import libraries\n",
    "import pandas as pd\n",
    "import numpy as np\n",
    "\n",
    "\n",
    "# Path data\n",
    "covid_patient_data = 'covid_patienten_export.tsv'\n",
    "covid_measurement_data = 'covid_meetgegevens_export.tsv'\n",
    "\n",
    "patient = pd.read_csv(covid_patient_data, sep='\\t')\n",
    "measurement = pd.read_csv(covid_measurement_data, sep='\\t')\n",
    "\n",
    "\n",
    "# Printing data\n",
    "print(f'covid_patienten_export.tsv: {patient.head(1)}')\n",
    "print(f'covid_meetgegevens_export.tsv: {measurement.head(1)}')"
   ]
  },
  {
   "cell_type": "code",
   "execution_count": 396,
   "metadata": {},
   "outputs": [
    {
     "name": "stdout",
     "output_type": "stream",
     "text": [
      "Kolomnamen in covid_patienten_export.tsv:\n",
      "PATIENT_ID\n",
      "BRUIKBAAR\n",
      "LIGTIJD\n",
      "LEEFTIJD\n",
      "GESLACHT\n",
      "LENGTE\n",
      "GEWICHT\n",
      "APACHE_IV_SCORE\n",
      "IN_LEVEN_3_MAANDEN\n",
      "IN_LEVEN_6_MAANDEN\n",
      "Kolomnamen in covid_meetgegevens_export.tsv:\n",
      "PATIENT_ID\n",
      "MEETDATUM\n",
      "VCO2_MLMIN\n",
      "EE_BEADEMINGSMACH\n",
      "VOEDING_ML24H\n",
      "MAAGRETENTIE_ML24H\n",
      "PROPOFOL_ML24H\n",
      "BUIKLIGGING\n",
      "ID\n"
     ]
    }
   ],
   "source": [
    "# Kolomnamen van bestanden printen\n",
    "print(\"Kolomnamen in covid_patienten_export.tsv:\")\n",
    "for x in patient:\n",
    "    print(x)\n",
    "\n",
    "print(\"Kolomnamen in covid_meetgegevens_export.tsv:\")\n",
    "for x in measurement:\n",
    "    print(x)"
   ]
  },
  {
   "cell_type": "markdown",
   "metadata": {},
   "source": [
    "### <font color=\"803AFF\"> **Algemene gegevens datasets** </font>"
   ]
  },
  {
   "cell_type": "markdown",
   "metadata": {},
   "source": [
    "De dataset *covid_patienten_export.tsv* bevat de volgende gegevens:<br>\n",
    "- **\"PATIENT_ID\"**: ID van patienten om hun resultaten te identificeren, bestaat uit cijfers\n",
    "- **\"BRUIKBAAR\"**: bruikbaarheid van de gegevens van de patienten\n",
    "- **\"LIGTIJD\"**: de ligtijd van de patienten in het ziekenhuis in dagen\n",
    "- **\"LEEFTIJD\"**: leeftijd van de patienten\n",
    "- **\"GESLACHT\"**: geslacht van de patienten\n",
    "- **\"LENGTE\"**: de lengte van de patienten in meters (m)\n",
    "- **\"GEWICHT\"**: het gewicht van de patienten in kilogram (KG)\n",
    "- **\"APACHE_IV_SCORE\"**: waarde tussen 0 tot en met 100 die aangeeft hoe erg de patient er aan toe is\n",
    "- **\"IN_LEVEN_X_MAANDEN\"**: periode dat een patient in leven is/was, als de 1<sup>ste</sup> waarde \"ja\" en de 2<sup>de</sup> waarde leeg (\"\") is, betekent dat de patient\n",
    "is komen te overlijden. Als de 2<sup>de</sup> waarde leeg is, wordt er vanuit gegaan dat de patient dezelfde status heeft als de 1<sup>ste</sup> waarde.   \n",
    "<br>\n",
    "\n",
    "De dataset *covid_meetgegevens_export.tsv* bevat de volgende gegevens:<br>\n",
    "- **\"PATIENT_ID\"**: ID van patienten om hun resultaten te identificeren, bestaat uit cijfers\n",
    "- **\"MEETDATUM\"**: datum waarop de meeting plaatsvond\n",
    "- **\"VCO2_MLMIN\"**: hoeveelheid koolstofdioxide (CO<sub>2</sub>) die door de patiënt wordt uitgeademd per minuut, gemeten in milliliters\n",
    "- **\"EE_BEADEMINGSMACH\"**: Energy Expenditure (vanuit de beademingsmachine berekend) verwijst naar het dagelijkse calorieverbruik van een beademde patiënt, gemeten in kilocalorieën per dag\n",
    "- **\"VOEDING_ML24H\"**: de voeding van de patient in milliliters per dag (ml)\n",
    "- **\"MAAGRETENTIE_ML24H\"**: geeft aan hoe snel het voedsel de maag weer verlaat, dit is buiten het onderzoek gehouden (er staan geen warden bij) dus dit is niet meegenomen in de data dashboard\n",
    "- **\"PROPOFOL_ML24H\"**: hoeveelheid propofol per 24 uur (1 dag)\n",
    "- **\"BUIKLIGGING\"**: ligging van de patienten, deze waarde kan \"buik\" of \"rug\" zijn\n",
    "- **\"ID\"**: ID van de meeting zelf\n",
    "<br>\n",
    "<br>"
   ]
  },
  {
   "cell_type": "markdown",
   "metadata": {},
   "source": [
    "##### Het aantal patienten waarvan de gegevens staan in de bestanden:"
   ]
  },
  {
   "cell_type": "code",
   "execution_count": 397,
   "metadata": {},
   "outputs": [
    {
     "name": "stdout",
     "output_type": "stream",
     "text": [
      "Aantal patienten (unieke ID): 158\n"
     ]
    }
   ],
   "source": [
    "# Covid_patienten_export.tsv\n",
    "\n",
    "# Aantal patienten tellen (aantal ID's)\n",
    "aantal_ID = patient['PATIENT_ID'].nunique()\n",
    "\n",
    "# Printen\n",
    "print(f'Aantal patienten (unieke ID): {aantal_ID}')"
   ]
  },
  {
   "cell_type": "code",
   "execution_count": 398,
   "metadata": {},
   "outputs": [
    {
     "name": "stdout",
     "output_type": "stream",
     "text": [
      "Aantal patienten waarvan de meetgegevens in het bestand staan: 157\n"
     ]
    }
   ],
   "source": [
    "# Covid_meetgegevens_export.tsv \n",
    "\n",
    "# Aantal patienten tellen waarvan de meetgegevens in het bestand staan (aantal ID's)\n",
    "aantal_ID_meetgegevens = measurement['PATIENT_ID'].nunique()\n",
    "\n",
    "# Printen\n",
    "print(f'Aantal patienten waarvan de meetgegevens in het bestand staan: {aantal_ID_meetgegevens}')"
   ]
  },
  {
   "cell_type": "markdown",
   "metadata": {},
   "source": [
    "### <font color=\"803AFF\"> **Opvallende waarnemingen:**</font>"
   ]
  },
  {
   "cell_type": "markdown",
   "metadata": {},
   "source": [
    "##### Uit de tellingen van het aantal patienten (unieke ID's) van beide bestanden, blijken er meetgegevens van 1 patient te missen:<br>\n",
    "##### Covid_patienten_export.tsv: **158** patienten\n",
    "##### Covid_meetgegevens_export.tsv: **157** patienten\n",
    "<br>"
   ]
  },
  {
   "cell_type": "markdown",
   "metadata": {},
   "source": [
    "##### Om te kijken waar het mis ging, moeten de patienten ID's van beide bestanden vergeleken worden met elkaar."
   ]
  },
  {
   "cell_type": "code",
   "execution_count": 399,
   "metadata": {},
   "outputs": [
    {
     "name": "stdout",
     "output_type": "stream",
     "text": [
      "Patienten ID van bestand Covid_patienten_export.tsv: [ 101  103  105  106  108  111  115  116  118  121  123  124  127  129\n",
      "  138  139  141  143  145  146  148  150  151  153  156  157  158  162\n",
      "  165  166  167  169  173  174  175  182  183  184  186  187  190  193\n",
      "  194  195  198  199  201  202  206  207  209  210  212  213  215  216\n",
      "  218  220  221  222  223  225  227  229  232  233  235  237  238  239\n",
      "  241  242  243  244  246  250  252  259  260  263  109  112  140  142\n",
      "  144  147  149  163  164  168  171  172  179  180  181  185  188  189\n",
      "  192  203  204  211  214  217  219  230  234  240  245  254  257  262\n",
      "  102  104  107  110  113  114  117  119  120 1201  122  125  126  128\n",
      "  130  131  132  133  134  135  136  137  152  154  155  159  160  161\n",
      "  170  176  177  178  191  196  197  200  205  208  224  228  231  247\n",
      "  249  253  261  265]\n",
      "Patienten ID van bestand Covid_meetgegevens_export.tsv: [ 160.  161.  163.  164.  165.  167.  168.  169.  171.  172.  174.  176.\n",
      "  177.  178.  179.  180.  181.  183.  184.  185.  186.  187.  188.  189.\n",
      "  191.  193.  195.  199.  202.  203.  205.  207.  208.  209.  210.  211.\n",
      "  212.  213.  214.  216.  217.  101.  103.  104.  106.  107.  108.  111.\n",
      "  112.  116.  119.  121.  123.  125.  129.  130.  132.  134.  135.  136.\n",
      "  137.  140.  141.  142.  144.  145.  147.  148.  149.  150.  151.  152.\n",
      "  153.  155.  157.  158.  159.  166.  170.  175.  194.  198.  206.  218.\n",
      "  221.  222.  224.  225.  228.  229.  230.  231.  232.  233.  234.  235.\n",
      "  237.  238.  242.  243.  245.  249.  252.  253.  254.  263.  265.  126.\n",
      "  133.  154.  200.  109.  115.  146.  156.  173.  190.  244.  246.  261.\n",
      "  102.  105.  110.  113.  117.  118.  120. 1201.  122.  124.  127.  128.\n",
      "  138.  139.  143.  250.  219.  220.  223.  227.  239.  240.  247.  259.\n",
      "  260.  262.  192.  215.  201.  204.  241.  114.  131.  182.   nan  197.\n",
      "  257.  162.]\n",
      "Missende ID in meetgegevens dataset: {196}\n"
     ]
    }
   ],
   "source": [
    "# Patienten ID's van beide .tsv bestanden vergelijken\n",
    "\n",
    "# Weergeven van patienten ID's van bestand Covid_patienten_export.tsv en sorteren op numerieke volgorde\n",
    "aantal_ID_tonen = patient['PATIENT_ID'].unique()\n",
    "\n",
    "print(f'Patienten ID van bestand Covid_patienten_export.tsv: {aantal_ID_tonen}')\n",
    "\n",
    "\n",
    "# Weergeven van patienten ID's van bestand Covid_meetgegevens_export.tsv\n",
    "aantal_ID_meetgegevens_tonen = measurement['PATIENT_ID'].unique()\n",
    "\n",
    "print(f'Patienten ID van bestand Covid_meetgegevens_export.tsv: {aantal_ID_meetgegevens_tonen}')\n",
    "\n",
    "\n",
    "# Typecasten naar set()\n",
    "set_aantal_ID = set(aantal_ID_tonen)\n",
    "set_aantal_ID_meetgegevens = set(aantal_ID_meetgegevens_tonen)\n",
    "\n",
    "verschil = set_aantal_ID.difference(set_aantal_ID_meetgegevens)\n",
    "#verschil = set_aantal_ID_meetgegevens.difference(set_aantal_ID)\n",
    "\n",
    "print(f'Missende ID in meetgegevens dataset: {verschil}')"
   ]
  },
  {
   "cell_type": "markdown",
   "metadata": {},
   "source": [
    "##### Van patient met **ID nummer 196** missen de meetgegevens in de dataset: *Covid_meetgegevens_export.tsv*\n",
    "<br>"
   ]
  },
  {
   "cell_type": "markdown",
   "metadata": {},
   "source": [
    "### <font color=\"803AFF\"> **Covid_patienten_export.tsv** </font>"
   ]
  },
  {
   "cell_type": "markdown",
   "metadata": {},
   "source": [
    "#### **Bruikbaarheid**\n",
    "##### In het bestand *Covid_patienten_export.tsv* staan de bruikbaarheid van de patientengegevens per patienten ID. De waarde die gegeven is voor de bruikbaarheid van de patientengegevens per patienten ID geldt ook voor de meetgegevens van dezelfde patienten (patienten met dezelfde ID in patientengegevens en meetgegevens).\n"
   ]
  },
  {
   "cell_type": "code",
   "execution_count": 400,
   "metadata": {},
   "outputs": [
    {
     "name": "stdout",
     "output_type": "stream",
     "text": [
      "Aantal unieke waarden in \"BRUIKBAAR\": 8\n",
      "Unieke waarden in \"BRUIKBAAR\": ['ja' 'nee, ontbrekende gegevens' 'nee, ontbrekende metingen'\n",
      " 'nee, onbrekende metingen' '?' 'nee' 'nee, ontbrekende waarden'\n",
      " 'misschien' nan]\n",
      "Aantal bruikbare gegevens: 111\n",
      "Aantal misschien bruikbare gegevens: 1\n",
      "Aantal niet bruikbare gegevens: 46\n",
      "111 gegevens van patienten kunnen gebruikt worden en 47 niet\n",
      "Dat is 70.25% van de totale patienten gegevens\n"
     ]
    }
   ],
   "source": [
    "# aantal waarden in \"BRUIKBAAR\" tellen en tonen\n",
    "aantal_unieke_waarden_bruikbaar = patient[\"BRUIKBAAR\"].nunique()\n",
    "unieke_waarden_bruikbaar = patient[\"BRUIKBAAR\"].unique()\n",
    "# printen\n",
    "print(f'Aantal unieke waarden in \"BRUIKBAAR\": {aantal_unieke_waarden_bruikbaar}')\n",
    "print(f'Unieke waarden in \"BRUIKBAAR\": {unieke_waarden_bruikbaar}')\n",
    "\n",
    "# Alle data van bruikbaarheid van patienten gegevens\n",
    "data_bruikbaarheid = patient[\"BRUIKBAAR\"]\n",
    "\n",
    "# Er zijn 8 verschillende waarden in \"BRUIKBAAR\" opgegeven. Deze waarden moeten onder de categorieen \"Ja\", \"Misschien\" en\n",
    "# \"Nee\" verdeeld worden\n",
    "Aantal_bruikbaar = []\n",
    "Aantal_niet_bruikbaar = []\n",
    "Aantal_misschien_bruikbaar = []\n",
    "\n",
    "# Waarden in lege lijsten zetten\n",
    "for i in range(len(data_bruikbaarheid)):\n",
    "    if data_bruikbaarheid[i] == \"ja\":\n",
    "        Aantal_bruikbaar.append(\"ja\")\n",
    "    elif data_bruikbaarheid[i] == \"misschien\":\n",
    "        Aantal_misschien_bruikbaar.append(\"misschien\")\n",
    "    else:\n",
    "        Aantal_niet_bruikbaar.append(data_bruikbaarheid[i])\n",
    "\n",
    "# Aantallen van inhoud lijsten krijgen\n",
    "Totaal_bruikbaar = len(Aantal_bruikbaar)\n",
    "Totaal_misschien = len(Aantal_misschien_bruikbaar)\n",
    "Totaal_niet = len(Aantal_niet_bruikbaar)\n",
    "\n",
    "# Percentage berekenen\n",
    "percentage_bruikbaar = round(Totaal_bruikbaar / (Totaal_bruikbaar + Totaal_misschien + Totaal_niet)* 100, 2)\n",
    "\n",
    "# Printen bruikbaarheid gegevens\n",
    "print(f'Aantal bruikbare gegevens: {Totaal_bruikbaar}')\n",
    "print(f'Aantal misschien bruikbare gegevens: {Totaal_misschien}')\n",
    "print(f'Aantal niet bruikbare gegevens: {Totaal_niet}')\n",
    "print(f'{Totaal_bruikbaar} gegevens van patienten kunnen gebruikt worden en {Totaal_niet + Totaal_misschien} niet')\n",
    "print(f'Dat is {percentage_bruikbaar}% van de totale patienten gegevens')"
   ]
  },
  {
   "cell_type": "markdown",
   "metadata": {},
   "source": [
    "##### In het bestand zijn er 8 verschillende waarden voor de bruikbaarheid van de patienten gegevens ingevuld. Het aantal bruikbare patienten gegevens zijn 111, van 1 patient zijn de gegevens 'misschien' te gebruiken en van 47 patienten kunnen de gegevens niet gebruikt worden. \n",
    "\n",
    "##### De patient waarvan de gegevens in het *Covid_meetgegevens_export.tsv* bestand misten (ID: 196) blijken geen bruikbare gegevens te zijn. "
   ]
  },
  {
   "cell_type": "code",
   "execution_count": 401,
   "metadata": {},
   "outputs": [
    {
     "name": "stdout",
     "output_type": "stream",
     "text": [
      "     PATIENT_ID BRUIKBAAR  LIGTIJD  LEEFTIJD GESLACHT  LENGTE  GEWICHT  \\\n",
      "145         196       nee      0.0      70.0        m   178.0     82.0   \n",
      "\n",
      "     APACHE_IV_SCORE IN_LEVEN_3_MAANDEN IN_LEVEN_6_MAANDEN  \n",
      "145               56                 ja                NaN  \n"
     ]
    }
   ],
   "source": [
    "# Bruikbaarheid patient ID 196 checken\n",
    "id_196 = patient.loc[patient['PATIENT_ID'] == 196]\n",
    "print(id_196)"
   ]
  },
  {
   "cell_type": "markdown",
   "metadata": {},
   "source": [
    "#### **Bruikbare data**"
   ]
  },
  {
   "cell_type": "markdown",
   "metadata": {},
   "source": [
    "##### Voor deze dashboard worden alleen gegevens van patienten gebruikt die bruikbaar zijn. Data dat misschien bruikbaar is, wordt niet gebruikt om het zekere voor het onzekere te nemen. "
   ]
  },
  {
   "cell_type": "code",
   "execution_count": 402,
   "metadata": {},
   "outputs": [
    {
     "name": "stdout",
     "output_type": "stream",
     "text": [
      "     PATIENT_ID BRUIKBAAR  LIGTIJD  LEEFTIJD GESLACHT  LENGTE  GEWICHT  \\\n",
      "0           101        ja     21.0      74.0        m   175.0     87.0   \n",
      "2           105        ja      8.0      77.0        m   173.0     74.0   \n",
      "3           106        ja      5.0      47.0        m   185.0     64.0   \n",
      "4           108        ja      4.0      66.0        m   188.0     88.0   \n",
      "5           111        ja      7.0      67.0        m   195.0    119.0   \n",
      "..          ...       ...      ...       ...      ...     ...      ...   \n",
      "107         240        ja      6.0      33.0        v   173.0     95.0   \n",
      "108         245        ja      7.0      72.0        v   163.0    106.0   \n",
      "109         254        ja     25.0      61.0        v   156.0    100.0   \n",
      "110         257        ja      3.0      61.0        v   170.0    114.0   \n",
      "111         262        ja      5.0      52.0        v   159.0     58.0   \n",
      "\n",
      "     APACHE_IV_SCORE IN_LEVEN_3_MAANDEN IN_LEVEN_6_MAANDEN  \n",
      "0                 69                nee                nee  \n",
      "2                 93                nee                nee  \n",
      "3                 72                 ja                NaN  \n",
      "4                 41                 ja                NaN  \n",
      "5                 56                 ja                NaN  \n",
      "..               ...                ...                ...  \n",
      "107                0                NaN                NaN  \n",
      "108               60                 ja                NaN  \n",
      "109               51                 ja                NaN  \n",
      "110               66                 ja                NaN  \n",
      "111               33                 ja                NaN  \n",
      "\n",
      "[111 rows x 10 columns]\n"
     ]
    }
   ],
   "source": [
    "# Bruikbare data in een variabale (Data_patienten) zetten, om toegang makkelijker te maken\n",
    "Data_patienten = patient.loc[patient['BRUIKBAAR'] == 'ja']\n",
    "print(Data_patienten)"
   ]
  },
  {
   "cell_type": "markdown",
   "metadata": {},
   "source": [
    "#### **Ligtijd**"
   ]
  },
  {
   "cell_type": "markdown",
   "metadata": {},
   "source": [
    "##### De ligtijd van de patienten is in dagen."
   ]
  },
  {
   "cell_type": "code",
   "execution_count": 403,
   "metadata": {},
   "outputs": [
    {
     "name": "stdout",
     "output_type": "stream",
     "text": [
      "Er zijn 30 verschillende waarnemingen gevonden bij de ligtijd van de patienten\n",
      "De verschillende ligtijden die zijn waargenomen zijn: [21.  8.  5.  4.  7. 13. 10.  9. 12.  6.  1.  2. 34.  0. 19. 24. 14. 15.\n",
      " 39. 33. 11. 17. 32.  3. 27. 53. 20. 16. 48. 25.]\n"
     ]
    }
   ],
   "source": [
    "# Aantal unieke waarden bij \"LIGTIJD\" tellen en tonen\n",
    "ligtijd_uniek_tellen = Data_patienten[\"LIGTIJD\"].nunique()\n",
    "ligtijd_uniek = Data_patienten[\"LIGTIJD\"].unique()\n",
    "\n",
    "print(f'Er zijn {ligtijd_uniek_tellen} verschillende waarnemingen gevonden bij de ligtijd van de patienten')\n",
    "print(f'De verschillende ligtijden die zijn waargenomen zijn: {ligtijd_uniek}')"
   ]
  },
  {
   "cell_type": "code",
   "execution_count": 404,
   "metadata": {},
   "outputs": [
    {
     "name": "stdout",
     "output_type": "stream",
     "text": [
      "Ligtijd | Gemiddeld: 10.0 dagen\n",
      "Ligtijd | Modus: 5.0 dagen\n",
      "Ligtijd | Spreidingsbreedte: 53.0 dagen\n",
      "Ligtijd | Standaardafwijking 10.0 dagen\n"
     ]
    }
   ],
   "source": [
    "# Statistieke waarden zoals het gemiddelde, modus, spreidingsbreedte en standaardafwijking berekenen\n",
    "ligtijd = Data_patienten[\"LIGTIJD\"]\n",
    "\n",
    "# Gemiddelde\n",
    "gemiddelde_ligtijd = numpy.round(ligtijd.mean())\n",
    "print(f'Ligtijd | Gemiddeld: {gemiddelde_ligtijd} dagen')\n",
    "\n",
    "# Modus\n",
    "x = ligtijd.mode()\n",
    "modus_ligtijd = x[0]\n",
    "print(f'Ligtijd | Modus: {modus_ligtijd} dagen')\n",
    "\n",
    "# Spreidingsbreedte\n",
    "spreidingsbreedte_ligtijd = ligtijd.max() - ligtijd.min()\n",
    "print(f'Ligtijd | Spreidingsbreedte: {spreidingsbreedte_ligtijd} dagen')\n",
    "\n",
    "# Standaardafwijking\n",
    "ligtijd.std()\n",
    "standaardafwijking_ligtijd = ligtijd.std()\n",
    "print(f'Ligtijd | Standaardafwijking {round(standaardafwijking_ligtijd,0)} dagen')"
   ]
  },
  {
   "cell_type": "markdown",
   "metadata": {},
   "source": [
    "#### **Leeftijd**"
   ]
  },
  {
   "cell_type": "code",
   "execution_count": 405,
   "metadata": {},
   "outputs": [
    {
     "name": "stdout",
     "output_type": "stream",
     "text": [
      "Er zijn 37 verschillende waarnemingen gevonden bij de leeftijd van de patienten\n",
      "De verschillende leeftijden die zijn waargenomen zijn: [74. 77. 47. 66. 67. 63. 54. 76. 53. 69. 72. 52. 80. 58. 68. 75. 49. 56.\n",
      " 71. 50. 62. 60. 64. 57. 48. 46. 73. 70. 38. 55. 39. 65. 82. 51. 61. 37.\n",
      " 33.]\n"
     ]
    }
   ],
   "source": [
    "# Aantal unieke waarden bij \"LEEFTIJD\" tellen en tonen\n",
    "leeftijd_uniek_tellen = Data_patienten[\"LEEFTIJD\"].nunique()\n",
    "leeftijd_uniek = Data_patienten[\"LEEFTIJD\"].unique()\n",
    "\n",
    "print(f'Er zijn {leeftijd_uniek_tellen} verschillende waarnemingen gevonden bij de leeftijd van de patienten')\n",
    "print(f'De verschillende leeftijden die zijn waargenomen zijn: {leeftijd_uniek}')"
   ]
  },
  {
   "cell_type": "code",
   "execution_count": 406,
   "metadata": {},
   "outputs": [
    {
     "name": "stdout",
     "output_type": "stream",
     "text": [
      "Leeftijd | Gemiddeld: 63.0 jaar\n",
      "Leeftijd | Modus: 74.0 jaar\n",
      "Leeftijd | Spreidingsbreedte: 49.0 jaar\n",
      "Leeftijd | Standaardafwijking 11.0 jaar\n"
     ]
    }
   ],
   "source": [
    "# Statistieke waarden zoals het gemiddelde, modus, spreidingsbreedte en standaardafwijking berekenen\n",
    "leeftijd = Data_patienten[\"LEEFTIJD\"]\n",
    "\n",
    "# Gemiddelde\n",
    "gemiddelde_leeftijd = numpy.round(leeftijd.mean())\n",
    "print(f'Leeftijd | Gemiddeld: {gemiddelde_leeftijd} jaar')\n",
    "\n",
    "# Modus\n",
    "x = leeftijd.mode()\n",
    "modus_leeftijd = x[0]\n",
    "print(f'Leeftijd | Modus: {modus_leeftijd} jaar')\n",
    "\n",
    "# Spreidingsbreedte\n",
    "spreidingsbreedte_leeftijd = leeftijd.max() - leeftijd.min()\n",
    "print(f'Leeftijd | Spreidingsbreedte: {spreidingsbreedte_leeftijd} jaar')\n",
    "\n",
    "# Standaardafwijking\n",
    "leeftijd.std()\n",
    "standaardafwijking_leeftijd = leeftijd.std()\n",
    "print(f'Leeftijd | Standaardafwijking {round(standaardafwijking_leeftijd,0)} jaar')"
   ]
  },
  {
   "cell_type": "markdown",
   "metadata": {},
   "source": [
    "#### **Geslacht**"
   ]
  },
  {
   "cell_type": "code",
   "execution_count": 407,
   "metadata": {},
   "outputs": [
    {
     "name": "stdout",
     "output_type": "stream",
     "text": [
      "Aantal mannen: 79\n",
      "Aantal vrouwen: 32\n"
     ]
    }
   ],
   "source": [
    "# Geslacht van bruikbare data\n",
    "geslacht = Data_patienten[\"GESLACHT\"]\n",
    "\n",
    "# Mannen en vrouwen \n",
    "geslacht_man = Data_patienten.loc[Data_patienten['GESLACHT'] == 'm']\n",
    "geslacht_vrouw = Data_patienten.loc[Data_patienten['GESLACHT'] == 'v']\n",
    "\n",
    "# Aantal mannen en vrouwen\n",
    "aantal_mannen = len(geslacht_man.index)\n",
    "aantal_vrouwen = len(geslacht_vrouw.index)\n",
    "\n",
    "# Printen \n",
    "print(f'Aantal mannen: {aantal_mannen}')\n",
    "print(f'Aantal vrouwen: {aantal_vrouwen}')"
   ]
  },
  {
   "cell_type": "markdown",
   "metadata": {},
   "source": [
    "#### **Lengte**"
   ]
  },
  {
   "cell_type": "markdown",
   "metadata": {},
   "source": [
    "##### Lengte in centimeter (cm)"
   ]
  },
  {
   "cell_type": "code",
   "execution_count": 408,
   "metadata": {},
   "outputs": [
    {
     "name": "stdout",
     "output_type": "stream",
     "text": [
      "Er zijn 39 verschillende waarnemingen gevonden bij de lengte van de patienten\n",
      "De verschillende lengtes die zijn waargenomen zijn: [175.  173.  185.  188.  195.  181.  160.  182.  180.  174.    nan 170.\n",
      " 185.5 186.  167.  165.  158.  164.  190.  183.  176.  207.  166.  180.5\n",
      " 168.  193.  169.  178.  187.  189.  172.  171.  163.  196.  179.  177.\n",
      " 155.  159.  150.  156. ]\n"
     ]
    }
   ],
   "source": [
    "# Aantal unieke waarden bij \"LENGTE\" tellen en tonen\n",
    "lengte_uniek_tellen = Data_patienten[\"LENGTE\"].nunique()\n",
    "lengte_uniek = Data_patienten[\"LENGTE\"].unique()\n",
    "\n",
    "print(f'Er zijn {lengte_uniek_tellen} verschillende waarnemingen gevonden bij de lengte van de patienten')\n",
    "print(f'De verschillende lengtes die zijn waargenomen zijn: {lengte_uniek}')"
   ]
  },
  {
   "cell_type": "code",
   "execution_count": 409,
   "metadata": {},
   "outputs": [
    {
     "name": "stdout",
     "output_type": "stream",
     "text": [
      "Lengte | Gemiddeld: 175.0 cm\n",
      "Lengte | Modus: 170.0 cm\n",
      "Lengte | Spreidingsbreedte: 57.0 cm\n",
      "Lengte | Standaardafwijking 10.0 cm\n"
     ]
    }
   ],
   "source": [
    "# Statistieke waarden zoals het gemiddelde, modus, spreidingsbreedte en standaardafwijking berekenen\n",
    "lengte = Data_patienten[\"LENGTE\"]\n",
    "\n",
    "# Gemiddelde\n",
    "gemiddelde_lengte = numpy.round(lengte.mean())\n",
    "print(f'Lengte | Gemiddeld: {gemiddelde_lengte} cm')\n",
    "\n",
    "# Modus\n",
    "x = lengte.mode()\n",
    "modus_lengte = x[0]\n",
    "print(f'Lengte | Modus: {modus_lengte} cm')\n",
    "\n",
    "# Spreidingsbreedte\n",
    "spreidingsbreedte_lengte = lengte.max() - lengte.min()\n",
    "print(f'Lengte | Spreidingsbreedte: {spreidingsbreedte_lengte} cm')\n",
    "\n",
    "# Standaardafwijking\n",
    "lengte.std()\n",
    "standaardafwijking_lengte = lengte.std()\n",
    "print(f'Lengte | Standaardafwijking {round(standaardafwijking_lengte,0)} cm')"
   ]
  },
  {
   "cell_type": "markdown",
   "metadata": {},
   "source": [
    "#### **Gewicht**"
   ]
  },
  {
   "cell_type": "markdown",
   "metadata": {},
   "source": [
    "##### Het gewicht van de patieten in kilogram (kg)"
   ]
  },
  {
   "cell_type": "code",
   "execution_count": 410,
   "metadata": {},
   "outputs": [
    {
     "name": "stdout",
     "output_type": "stream",
     "text": [
      "Er zijn 59 verschillende waarnemingen gevonden bij het gewicht van de patienten\n",
      "De verschillende gewichten die zijn waargenomen zijn: [ 87.  74.  64.  88. 119.  99.  77. 130.  67.  76. 105. 102.  80.  84.\n",
      "  78.  91. 108.  81.  68.  93. 100.  95.  90. 110.  85. 107. 125. 145.\n",
      " 112. 120. 115. 101. 114.  73. 117.  98.  70.  82.  86. 118. 122.  nan\n",
      " 124. 159. 135. 123.  75.  96.  97. 113.  54. 103.  72.  79.  83.  51.\n",
      "  59. 137. 106.  58.]\n"
     ]
    }
   ],
   "source": [
    "# Aantal unieke waarden bij \"GEWICHT\" tellen en tonen\n",
    "gewicht_uniek_tellen = Data_patienten[\"GEWICHT\"].nunique()\n",
    "gewicht_uniek = Data_patienten[\"GEWICHT\"].unique()\n",
    "\n",
    "print(f'Er zijn {gewicht_uniek_tellen} verschillende waarnemingen gevonden bij het gewicht van de patienten')\n",
    "print(f'De verschillende gewichten die zijn waargenomen zijn: {gewicht_uniek}')"
   ]
  },
  {
   "cell_type": "code",
   "execution_count": 411,
   "metadata": {},
   "outputs": [
    {
     "name": "stdout",
     "output_type": "stream",
     "text": [
      "Gewicht | Gemiddeld: 94.0 kg\n",
      "Gewicht | Modus: 108.0 kg\n",
      "Gewicht | Spreidingsbreedte: 108.0 kg\n",
      "Gewicht | Standaardafwijking 20.0 kg\n"
     ]
    }
   ],
   "source": [
    "# Statistieke waarden zoals het gemiddelde, modus, spreidingsbreedte en standaardafwijking berekenen\n",
    "gewicht = Data_patienten[\"GEWICHT\"]\n",
    "\n",
    "# Gemiddelde\n",
    "gemiddelde_gewicht = numpy.round(gewicht.mean())\n",
    "print(f'Gewicht | Gemiddeld: {gemiddelde_gewicht} kg')\n",
    "\n",
    "# Modus\n",
    "x = gewicht.mode()\n",
    "modus_gewicht = x[0]\n",
    "print(f'Gewicht | Modus: {modus_gewicht} kg')\n",
    "\n",
    "# Spreidingsbreedte\n",
    "spreidingsbreedte_gewicht = gewicht.max() - gewicht.min()\n",
    "print(f'Gewicht | Spreidingsbreedte: {spreidingsbreedte_gewicht} kg')\n",
    "\n",
    "# Standaardafwijking\n",
    "gewicht.std()\n",
    "standaardafwijking_gewicht = gewicht.std()\n",
    "print(f'Gewicht | Standaardafwijking {round(standaardafwijking_gewicht,0)} kg')"
   ]
  },
  {
   "cell_type": "markdown",
   "metadata": {},
   "source": [
    "#### **Apache IV score**"
   ]
  },
  {
   "cell_type": "markdown",
   "metadata": {},
   "source": [
    "##### De score van een patient op de IC?"
   ]
  },
  {
   "cell_type": "code",
   "execution_count": 412,
   "metadata": {},
   "outputs": [
    {
     "name": "stdout",
     "output_type": "stream",
     "text": [
      "Er zijn 49 verschillende waarnemingen gevonden bij de apache IV scores van de patienten\n",
      "De verschillende apache IV scores die zijn waargenomen zijn: [69 93 72 41 56 38 35 80 46 68 58 65 63 51 28 77 47 53 67 83 76 82 79 64\n",
      " 49 75 42 45 59 62 50 57 43  0 95 81 89 73 36 52 74 84 61 66 39 60 78 86\n",
      " 33]\n"
     ]
    }
   ],
   "source": [
    "# Aantal unieke waarden bij \"APACHE_IV_SCORE\" tellen en tonen\n",
    "apache_uniek_tellen = Data_patienten[\"APACHE_IV_SCORE\"].nunique()\n",
    "apache_uniek = Data_patienten[\"APACHE_IV_SCORE\"].unique()\n",
    "\n",
    "print(f'Er zijn {apache_uniek_tellen} verschillende waarnemingen gevonden bij de apache IV scores van de patienten')\n",
    "print(f'De verschillende apache IV scores die zijn waargenomen zijn: {apache_uniek}')"
   ]
  },
  {
   "cell_type": "code",
   "execution_count": 413,
   "metadata": {},
   "outputs": [
    {
     "name": "stdout",
     "output_type": "stream",
     "text": [
      "Apache IV score | Gemiddeld: 58.0\n",
      "Apache IV score | Modus: 51\n",
      "Apache IV score | Spreidingsbreedte: 95\n",
      "Apache IV score | Standaardafwijking 18.0\n"
     ]
    }
   ],
   "source": [
    "# Statistieke waarden zoals het gemiddelde, modus, spreidingsbreedte en standaardafwijking berekenen\n",
    "apache_IV_score = Data_patienten[\"APACHE_IV_SCORE\"]\n",
    "\n",
    "# Gemiddelde\n",
    "gemiddelde_apache = numpy.round(apache_IV_score.mean())\n",
    "print(f'Apache IV score | Gemiddeld: {gemiddelde_apache}')\n",
    "\n",
    "# Modus\n",
    "x = apache_IV_score.mode()\n",
    "modus_apache = x[0]\n",
    "print(f'Apache IV score | Modus: {modus_apache}')\n",
    "\n",
    "# Spreidingsbreedte\n",
    "spreidingsbreedte_apache = apache_IV_score.max() - apache_IV_score.min()\n",
    "print(f'Apache IV score | Spreidingsbreedte: {spreidingsbreedte_apache}')\n",
    "\n",
    "# Standaardafwijking\n",
    "apache_IV_score.std()\n",
    "standaardafwijking_apache = apache_IV_score.std()\n",
    "print(f'Apache IV score | Standaardafwijking {round(standaardafwijking_apache,0)}')"
   ]
  },
  {
   "cell_type": "markdown",
   "metadata": {},
   "source": [
    "#### **In_leven_x_maanden**"
   ]
  },
  {
   "cell_type": "markdown",
   "metadata": {},
   "source": [
    "##### Het aantal patienten dat X maanden in leven is. Dit is in verdeeld in een periode van 3 maanden en 6 maanden."
   ]
  },
  {
   "cell_type": "code",
   "execution_count": 414,
   "metadata": {},
   "outputs": [
    {
     "name": "stdout",
     "output_type": "stream",
     "text": [
      "Aantal patienten die 3 maanden in leven zijn 68\n",
      "Aantal mannelijke patienten die 3 maanden in leven zijn 50\n",
      "Aantal vrouwelijke patienten die 3 maanden in leven zijn 18\n",
      "Aantal patienten die in de eerste 3 maanden niet in leven zijn 39\n",
      "Aantal mannelijke patienten die de eerste 3 maanden niet in leven zijn 27\n",
      "Aantal vrouwelijke patienten die de eerste 3 maanden niet in leven zijn 12\n"
     ]
    },
    {
     "data": {
      "text/plain": [
       "'periode dat een patient in leven is/was, als de 1e \\nwaarde \"ja\" en de 2e waarde leeg (\"\") is, betekent dat de patient\\nis komen te overlijden. Als de 2e waarde leeg is, wordt er vanuit\\ngegaan dat de patient dezelfde status heeft als de 1e waarde\\n'"
      ]
     },
     "execution_count": 414,
     "metadata": {},
     "output_type": "execute_result"
    }
   ],
   "source": [
    "# Aantal patienten in leven voor 3 maanden berekenen\n",
    "\n",
    "wel_in_leven_3_maanden = Data_patienten.loc[Data_patienten['IN_LEVEN_3_MAANDEN'] == 'ja']\n",
    "#print(wel_in_leven_3_maanden)\n",
    "\n",
    "aantal_patienten_in_leven_3_maanden = len(wel_in_leven_3_maanden)\n",
    "print(f'Aantal patienten die 3 maanden in leven zijn {aantal_patienten_in_leven_3_maanden}')\n",
    "\n",
    "# aantal mannelijke patienten 3 maanden in leven\n",
    "m_patienten_in_leven_3 = wel_in_leven_3_maanden.loc[wel_in_leven_3_maanden['GESLACHT'] == 'm']\n",
    "aantal_m_patienten_in_leven_3 = len(m_patienten_in_leven_3)\n",
    "print(f'Aantal mannelijke patienten die 3 maanden in leven zijn {aantal_m_patienten_in_leven_3}')\n",
    "\n",
    "# aantal vrouwelijke patienten 3 maanden in leven\n",
    "v_patienten_in_leven_3 = wel_in_leven_3_maanden.loc[wel_in_leven_3_maanden['GESLACHT'] == 'v']\n",
    "aantal_v_patienten_in_leven_3 = len(v_patienten_in_leven_3)\n",
    "print(f'Aantal vrouwelijke patienten die 3 maanden in leven zijn {aantal_v_patienten_in_leven_3}')\n",
    "\n",
    "# patienten niet in leven 3 maanden\n",
    "niet_in_leven_3_maanden = Data_patienten.loc[Data_patienten['IN_LEVEN_3_MAANDEN'] == 'nee']\n",
    "aantal_patienten_niet_in_leven_3_maanden = len(niet_in_leven_3_maanden)\n",
    "print(f'Aantal patienten die in de eerste 3 maanden niet in leven zijn {aantal_patienten_niet_in_leven_3_maanden}')\n",
    "\n",
    "# mannelijke patienten\n",
    "m_patienten_niet_in_leven_3 = niet_in_leven_3_maanden.loc[niet_in_leven_3_maanden['GESLACHT'] == 'm']\n",
    "aantal_m_patienten_niet_in_leven_3 = len(m_patienten_niet_in_leven_3)\n",
    "print(f'Aantal mannelijke patienten die de eerste 3 maanden niet in leven zijn {aantal_m_patienten_niet_in_leven_3}')\n",
    "\n",
    "# vrouwelijke patienten\n",
    "v_patienten_niet_in_leven_3 = niet_in_leven_3_maanden.loc[niet_in_leven_3_maanden['GESLACHT'] == 'v']\n",
    "aantal_v_patienten_niet_in_leven_3 = len(v_patienten_niet_in_leven_3)\n",
    "print(f'Aantal vrouwelijke patienten die de eerste 3 maanden niet in leven zijn {aantal_v_patienten_niet_in_leven_3}')\n",
    "\n",
    "'''periode dat een patient in leven is/was, als de 1e \n",
    "waarde \"ja\" en de 2e waarde leeg (\"\") is, betekent dat de patient\n",
    "is komen te overlijden. Als de 2e waarde leeg is, wordt er vanuit\n",
    "gegaan dat de patient dezelfde status heeft als de 1e waarde\n",
    "'''"
   ]
  },
  {
   "cell_type": "code",
   "execution_count": 415,
   "metadata": {},
   "outputs": [
    {
     "name": "stdout",
     "output_type": "stream",
     "text": [
      "Aantal patienten die 6 maanden in leven zijn 0\n",
      "Aantal patienten die in de eerste 6 maanden niet in leven zijn 33\n",
      "Aantal mannelijke patienten die in de eerste 6 maanden niet in leven zijn 22\n",
      "Aantal vrouwelijke patienten die in de eerste 6 maanden niet in leven zijn 11\n"
     ]
    }
   ],
   "source": [
    "# Aantal patienten in leven voor 6 maanden berekenen\n",
    "\n",
    "wel_in_leven_6_maanden = Data_patienten.loc[Data_patienten['IN_LEVEN_6_MAANDEN'] == 'ja']\n",
    "#print(wel_in_leven_6_maanden)\n",
    "\n",
    "aantal_patienten_in_leven_6_maanden = len(wel_in_leven_6_maanden)\n",
    "print(f'Aantal patienten die 6 maanden in leven zijn {aantal_patienten_in_leven_6_maanden}')\n",
    "\n",
    "niet_in_leven_6_maanden = Data_patienten.loc[Data_patienten['IN_LEVEN_6_MAANDEN'] == 'nee']\n",
    "#print(niet_in_leven_6_maanden)\n",
    "\n",
    "aantal_patienten_niet_in_leven_6_maanden = len(niet_in_leven_6_maanden)\n",
    "print(f'Aantal patienten die in de eerste 6 maanden niet in leven zijn {aantal_patienten_niet_in_leven_6_maanden}')\n",
    "\n",
    "# mannelijke patienten\n",
    "m_patienten_niet_in_leven_6 = niet_in_leven_6_maanden.loc[niet_in_leven_6_maanden['GESLACHT'] == 'm']\n",
    "aantal_m_patienten_niet_in_leven_6 = len(m_patienten_niet_in_leven_6)\n",
    "print(f'Aantal mannelijke patienten die in de eerste 6 maanden niet in leven zijn {aantal_m_patienten_niet_in_leven_6}')\n",
    "\n",
    "# mannelijke patienten\n",
    "v_patienten_niet_in_leven_6 = niet_in_leven_6_maanden.loc[niet_in_leven_6_maanden['GESLACHT'] == 'v']\n",
    "aantal_v_patienten_niet_in_leven_6 = len(v_patienten_niet_in_leven_6)\n",
    "print(f'Aantal vrouwelijke patienten die in de eerste 6 maanden niet in leven zijn {aantal_v_patienten_niet_in_leven_6}')\n"
   ]
  },
  {
   "cell_type": "markdown",
   "metadata": {},
   "source": [
    "### <font color=\"803AFF\"> **Covid_meetgegevens_export.tsv** </font>"
   ]
  },
  {
   "cell_type": "markdown",
   "metadata": {},
   "source": [
    "##### Alleen de meetgegevens van patienten waarvan de alle gegevens bruikbaar zijn, worden verwerkt. Daarom moet er alleen in het bestand *Covid_meetgegevens_export.tsv* gezocht worden naar de desbetreffende patienten ID's. "
   ]
  },
  {
   "cell_type": "code",
   "execution_count": 416,
   "metadata": {},
   "outputs": [
    {
     "name": "stdout",
     "output_type": "stream",
     "text": [
      "[101, 105, 106, 108, 111, 115, 116, 118, 121, 123, 124, 127, 129, 138, 139, 141, 143, 145, 146, 148, 150, 151, 153, 156, 157, 158, 162, 165, 166, 167, 169, 173, 174, 175, 182, 183, 184, 186, 187, 190, 193, 194, 195, 198, 199, 201, 202, 206, 207, 209, 210, 212, 213, 215, 216, 218, 220, 221, 222, 223, 225, 227, 229, 232, 233, 235, 237, 238, 239, 241, 242, 243, 244, 246, 250, 252, 259, 260, 263, 109, 112, 140, 142, 144, 147, 149, 163, 164, 168, 171, 172, 179, 180, 181, 185, 188, 189, 192, 203, 204, 211, 214, 217, 219, 230, 234, 240, 245, 254, 257, 262]\n",
      "{128.0, 130.0, 131.0, 132.0, 133.0, 134.0, 135.0, 136.0, 137.0, 261.0, 265.0, 152.0, 154.0, 155.0, 159.0, 160.0, 161.0, 170.0, 176.0, 177.0, 178.0, 1201.0, 191.0, nan, 197.0, 200.0, 205.0, 208.0, 247.0, 253.0, 224.0, 228.0, 102.0, 103.0, 104.0, 231.0, 107.0, 110.0, 113.0, 114.0, 117.0, 119.0, 120.0, 249.0, 122.0, 125.0, 126.0}\n",
      "      PATIENT_ID  MEETDATUM  VCO2_MLMIN  EE_BEADEMINGSMACH  VOEDING_ML24H  \\\n",
      "6          163.0  09-DEC-20         283            2317.77        1768.04   \n",
      "7          163.0  12-DEC-20         352            2882.88        1416.00   \n",
      "8          163.0  13-DEC-20         347            2841.93        1416.00   \n",
      "9          164.0  06-DEC-20         206            1687.14         722.75   \n",
      "10         164.0  09-DEC-20         285            2334.15         904.40   \n",
      "...          ...        ...         ...                ...            ...   \n",
      "1611       101.0  15-OCT-20         258            2113.02        1512.00   \n",
      "1612       101.0  18-OCT-20         245            2006.55        1520.40   \n",
      "1613       101.0  19-OCT-20         214            1752.66        1092.00   \n",
      "1615       188.0  30-DEC-20         262            2145.78        1008.00   \n",
      "1616       241.0  03-MAR-21         238            1949.22        1732.50   \n",
      "\n",
      "      MAAGRETENTIE_ML24H  PROPOFOL_ML24H BUIKLIGGING    ID  \n",
      "6                    0.0           335.0         rug     7  \n",
      "7                    0.0           336.0         rug     8  \n",
      "8                    0.0           337.0         rug     9  \n",
      "9                    0.0           161.0         rug    10  \n",
      "10                   0.0           152.0         rug    11  \n",
      "...                  ...             ...         ...   ...  \n",
      "1611               550.0             0.0        buik  1612  \n",
      "1612               850.0             0.0        buik  1613  \n",
      "1613              2235.0             0.0        buik  1614  \n",
      "1615              1110.0             0.0        buik  1616  \n",
      "1616               605.0             0.0        buik  1617  \n",
      "\n",
      "[1132 rows x 9 columns]\n"
     ]
    }
   ],
   "source": [
    "# patienten ID's die als bruikbaar waargenomen waren in Covid_patienten_export.tsv\n",
    "Data_patienten = patient.loc[patient['BRUIKBAAR'] == 'ja']\n",
    "\n",
    "# kolom selecteren met alleen 'PATIENT_ID'\n",
    "kolom = Data_patienten['PATIENT_ID']\n",
    "\n",
    "# kolom naar list converteren\n",
    "id_bruikbaar_gegevens = kolom.tolist()\n",
    "print(id_bruikbaar_gegevens)\n",
    "\n",
    "# toon id van alle meetgegevens\n",
    "unique_id_measurement = measurement['PATIENT_ID'].unique()\n",
    "\n",
    "# vergelijken alle id en bruikbare id\n",
    "set_welke_id = set(id_bruikbaar_gegevens)\n",
    "set_welke_id_2 = set(unique_id_measurement)\n",
    "verschil_measurement_id = set_welke_id_2.difference(set_welke_id)\n",
    "niet_gebruiken_id = verschil_measurement_id\n",
    "print(niet_gebruiken_id)\n",
    "\n",
    "gewenste_meetgegevens = measurement[~measurement['PATIENT_ID'].isin(niet_gebruiken_id)]\n",
    "print(gewenste_meetgegevens)\n",
    "\n",
    "\n"
   ]
  },
  {
   "cell_type": "markdown",
   "metadata": {},
   "source": [
    "#### **Meetdatum**"
   ]
  },
  {
   "cell_type": "markdown",
   "metadata": {},
   "source": [
    "##### Meetdatum van de waarnemingen"
   ]
  },
  {
   "cell_type": "code",
   "execution_count": 417,
   "metadata": {},
   "outputs": [
    {
     "name": "stdout",
     "output_type": "stream",
     "text": [
      "6       09-DEC-20\n",
      "7       12-DEC-20\n",
      "8       13-DEC-20\n",
      "9       06-DEC-20\n",
      "10      09-DEC-20\n",
      "          ...    \n",
      "1611    15-OCT-20\n",
      "1612    18-OCT-20\n",
      "1613    19-OCT-20\n",
      "1615    30-DEC-20\n",
      "1616    03-MAR-21\n",
      "Name: MEETDATUM, Length: 1132, dtype: object\n"
     ]
    }
   ],
   "source": [
    "# meetdatum\n",
    "meetdatum = gewenste_meetgegevens['MEETDATUM']\n",
    "print(meetdatum)\n",
    "\n"
   ]
  },
  {
   "cell_type": "markdown",
   "metadata": {},
   "source": [
    "#### **VCO2_MLMIN**"
   ]
  },
  {
   "cell_type": "markdown",
   "metadata": {},
   "source": [
    "Hoeveelheid co2 die door patient wordt uitgeademd per minuut in ml"
   ]
  },
  {
   "cell_type": "code",
   "execution_count": 418,
   "metadata": {},
   "outputs": [
    {
     "name": "stdout",
     "output_type": "stream",
     "text": [
      "6       283\n",
      "7       352\n",
      "8       347\n",
      "9       206\n",
      "10      285\n",
      "       ... \n",
      "1611    258\n",
      "1612    245\n",
      "1613    214\n",
      "1615    262\n",
      "1616    238\n",
      "Name: VCO2_MLMIN, Length: 1132, dtype: int64\n",
      "VCO2 | Gemiddeld: 260.0\n",
      "VCO2 | Modus: 242\n",
      "VCO2 | Spreidingsbreedte: 354\n",
      "VCO2 | Standaardafwijking 57.0\n"
     ]
    }
   ],
   "source": [
    "# Statistieke waarden zoals het gemiddelde, modus, spreidingsbreedte en standaardafwijking berekenen\n",
    "vco2 = gewenste_meetgegevens['VCO2_MLMIN']\n",
    "print(vco2)\n",
    "\n",
    "# Gemiddelde\n",
    "gemiddelde_vco2 = numpy.round(vco2.mean())\n",
    "print(f'VCO2 | Gemiddeld: {gemiddelde_vco2}')\n",
    "\n",
    "# Modus\n",
    "x = vco2.mode()\n",
    "modus_vco2 = x[0]\n",
    "print(f'VCO2 | Modus: {modus_vco2}')\n",
    "\n",
    "# Spreidingsbreedte\n",
    "spreidingsbreedte_vco2 = vco2.max() - vco2.min()\n",
    "print(f'VCO2 | Spreidingsbreedte: {spreidingsbreedte_vco2}')\n",
    "\n",
    "# Standaardafwijking\n",
    "vco2.std()\n",
    "standaardafwijking_vco2 = vco2.std()\n",
    "print(f'VCO2 | Standaardafwijking {round(standaardafwijking_vco2,0)}')"
   ]
  },
  {
   "cell_type": "markdown",
   "metadata": {},
   "source": [
    "#### **EE_beademingsmach**"
   ]
  },
  {
   "cell_type": "markdown",
   "metadata": {},
   "source": [
    "Energy Expenditure (vanuit de beademingsmachine berekend) verwijst naar het dagelijkse calorieverbruik van een beademde patiënt, gemeten in kilocalorieën per dag"
   ]
  },
  {
   "cell_type": "code",
   "execution_count": 419,
   "metadata": {},
   "outputs": [
    {
     "name": "stdout",
     "output_type": "stream",
     "text": [
      "6       2317.77\n",
      "7       2882.88\n",
      "8       2841.93\n",
      "9       1687.14\n",
      "10      2334.15\n",
      "         ...   \n",
      "1611    2113.02\n",
      "1612    2006.55\n",
      "1613    1752.66\n",
      "1615    2145.78\n",
      "1616    1949.22\n",
      "Name: EE_BEADEMINGSMACH, Length: 1132, dtype: float64\n",
      "EE_BEADEMINGSMACH | Gemiddeld: 2129.0\n",
      "EE_BEADEMINGSMACH | Modus: 1981.98\n",
      "EE_BEADEMINGSMACH | Spreidingsbreedte: 2899.26\n",
      "EE_BEADEMINGSMACH | Standaardafwijking 466.0\n"
     ]
    }
   ],
   "source": [
    "# Statistieke waarden zoals het gemiddelde, modus, spreidingsbreedte en standaardafwijking berekenen\n",
    "ee_beademing = gewenste_meetgegevens['EE_BEADEMINGSMACH']\n",
    "print(ee_beademing)\n",
    "\n",
    "# Gemiddelde\n",
    "gemiddelde_ee_beademing = numpy.round(ee_beademing.mean())\n",
    "print(f'EE_BEADEMINGSMACH | Gemiddeld: {gemiddelde_ee_beademing}')\n",
    "\n",
    "# Modus\n",
    "x = ee_beademing.mode()\n",
    "modus_ee_beademing = x[0]\n",
    "print(f'EE_BEADEMINGSMACH | Modus: {modus_ee_beademing}')\n",
    "\n",
    "# Spreidingsbreedte\n",
    "spreidingsbreedte_ee_beademing = ee_beademing.max() - ee_beademing.min()\n",
    "print(f'EE_BEADEMINGSMACH | Spreidingsbreedte: {spreidingsbreedte_ee_beademing}')\n",
    "\n",
    "# Standaardafwijking\n",
    "ee_beademing.std()\n",
    "standaardafwijking_ee_beademing = ee_beademing.std()\n",
    "print(f'EE_BEADEMINGSMACH | Standaardafwijking {round(standaardafwijking_ee_beademing,0)}')"
   ]
  },
  {
   "cell_type": "markdown",
   "metadata": {},
   "source": [
    "#### **VOEDING_ML24H**"
   ]
  },
  {
   "cell_type": "code",
   "execution_count": 420,
   "metadata": {},
   "outputs": [
    {
     "name": "stdout",
     "output_type": "stream",
     "text": [
      "6       1768.04\n",
      "7       1416.00\n",
      "8       1416.00\n",
      "9        722.75\n",
      "10       904.40\n",
      "         ...   \n",
      "1611    1512.00\n",
      "1612    1520.40\n",
      "1613    1092.00\n",
      "1615    1008.00\n",
      "1616    1732.50\n",
      "Name: VOEDING_ML24H, Length: 1132, dtype: float64\n",
      "VOEDING_ML24H | Gemiddeld: 1266.0\n",
      "VOEDING_ML24H | Modus: 1512.0\n",
      "VOEDING_ML24H | Spreidingsbreedte: 2583.8999999999996\n",
      "VOEDING_ML24H | Standaardafwijking 448.0\n"
     ]
    }
   ],
   "source": [
    "# Statistieke waarden zoals het gemiddelde, modus, spreidingsbreedte en standaardafwijking berekenen\n",
    "voeding = gewenste_meetgegevens['VOEDING_ML24H']\n",
    "print(voeding)\n",
    "\n",
    "# Gemiddelde\n",
    "gemiddelde_voeding = numpy.round(voeding.mean())\n",
    "print(f'VOEDING_ML24H | Gemiddeld: {gemiddelde_voeding}')\n",
    "\n",
    "# Modus\n",
    "x = voeding.mode()\n",
    "modus_voeding = x[0]\n",
    "print(f'VOEDING_ML24H | Modus: {modus_voeding}')\n",
    "\n",
    "# Spreidingsbreedte\n",
    "spreidingsbreedte_voeding = voeding.max() - voeding.min()\n",
    "print(f'VOEDING_ML24H | Spreidingsbreedte: {spreidingsbreedte_voeding}')\n",
    "\n",
    "# Standaardafwijking\n",
    "voeding.std()\n",
    "standaardafwijking_voeding = voeding.std()\n",
    "print(f'VOEDING_ML24H | Standaardafwijking {round(standaardafwijking_voeding,0)}')"
   ]
  },
  {
   "cell_type": "markdown",
   "metadata": {},
   "source": [
    "Voeding van de patient in milliliters per dag (ml)"
   ]
  },
  {
   "cell_type": "markdown",
   "metadata": {},
   "source": [
    "#### **PROPOFOL_ML24H**"
   ]
  },
  {
   "cell_type": "markdown",
   "metadata": {},
   "source": [
    "Hoeveelheid propofol per 24 uur (1 dag)"
   ]
  },
  {
   "cell_type": "code",
   "execution_count": 421,
   "metadata": {},
   "outputs": [
    {
     "name": "stdout",
     "output_type": "stream",
     "text": [
      "6       335.0\n",
      "7       336.0\n",
      "8       337.0\n",
      "9       161.0\n",
      "10      152.0\n",
      "        ...  \n",
      "1611      0.0\n",
      "1612      0.0\n",
      "1613      0.0\n",
      "1615      0.0\n",
      "1616      0.0\n",
      "Name: PROPOFOL_ML24H, Length: 1132, dtype: float64\n",
      "PROPOFOL_ML24H | Gemiddeld: 161.0\n",
      "PROPOFOL_ML24H | Modus: 0.0\n",
      "PROPOFOL_ML24H | Spreidingsbreedte: 556.0\n",
      "PROPOFOL_ML24H | Standaardafwijking 141.0\n"
     ]
    }
   ],
   "source": [
    "# Statistieke waarden zoals het gemiddelde, modus, spreidingsbreedte en standaardafwijking berekenen\n",
    "propofol = gewenste_meetgegevens['PROPOFOL_ML24H']\n",
    "print(propofol)\n",
    "\n",
    "# Gemiddelde\n",
    "gemiddelde_propofol = numpy.round(propofol.mean())\n",
    "print(f'PROPOFOL_ML24H | Gemiddeld: {gemiddelde_propofol}')\n",
    "\n",
    "# Modus\n",
    "x = propofol.mode()\n",
    "modus_propofol = x[0]\n",
    "print(f'PROPOFOL_ML24H | Modus: {modus_propofol}')\n",
    "\n",
    "# Spreidingsbreedte\n",
    "spreidingsbreedte_propofol = propofol.max() - propofol.min()\n",
    "print(f'PROPOFOL_ML24H | Spreidingsbreedte: {spreidingsbreedte_propofol}')\n",
    "\n",
    "# Standaardafwijking\n",
    "propofol.std()\n",
    "standaardafwijking_propofol = propofol.std()\n",
    "print(f'PROPOFOL_ML24H | Standaardafwijking {round(standaardafwijking_propofol,0)}')"
   ]
  },
  {
   "cell_type": "markdown",
   "metadata": {},
   "source": [
    "#### **Buikligging**"
   ]
  },
  {
   "cell_type": "markdown",
   "metadata": {},
   "source": [
    "Ligging van de patienten, deze waarde kan \"buik\" of \"rug\" zijn"
   ]
  },
  {
   "cell_type": "code",
   "execution_count": 422,
   "metadata": {},
   "outputs": [
    {
     "name": "stdout",
     "output_type": "stream",
     "text": [
      "6        rug\n",
      "7        rug\n",
      "8        rug\n",
      "9        rug\n",
      "10       rug\n",
      "        ... \n",
      "1611    buik\n",
      "1612    buik\n",
      "1613    buik\n",
      "1615    buik\n",
      "1616    buik\n",
      "Name: BUIKLIGGING, Length: 1132, dtype: object\n",
      "202\n",
      "919\n"
     ]
    }
   ],
   "source": [
    "# buikligging mlmin\n",
    "buikligging = gewenste_meetgegevens['BUIKLIGGING']\n",
    "print(buikligging)\n",
    "\n",
    "# aantal buik\n",
    "buik = gewenste_meetgegevens.loc[gewenste_meetgegevens['BUIKLIGGING'] == 'buik']\n",
    "aantal_buik = (len(buik))\n",
    "print(aantal_buik)\n",
    "\n",
    "# aantal rug\n",
    "rug = gewenste_meetgegevens.loc[gewenste_meetgegevens['BUIKLIGGING'] == 'rug']\n",
    "aantal_rug = (len(rug))\n",
    "print(aantal_rug)"
   ]
  },
  {
   "cell_type": "markdown",
   "metadata": {},
   "source": [
    "#### **ID**"
   ]
  },
  {
   "cell_type": "markdown",
   "metadata": {},
   "source": [
    "ID van meeting zelf"
   ]
  },
  {
   "cell_type": "code",
   "execution_count": 423,
   "metadata": {},
   "outputs": [
    {
     "name": "stdout",
     "output_type": "stream",
     "text": [
      "6          7\n",
      "7          8\n",
      "8          9\n",
      "9         10\n",
      "10        11\n",
      "        ... \n",
      "1611    1612\n",
      "1612    1613\n",
      "1613    1614\n",
      "1615    1616\n",
      "1616    1617\n",
      "Name: ID, Length: 1132, dtype: int64\n"
     ]
    }
   ],
   "source": [
    "# ID mlmin\n",
    "ID_meeting = gewenste_meetgegevens['ID']\n",
    "print(ID_meeting)"
   ]
  },
  {
   "cell_type": "markdown",
   "metadata": {},
   "source": [
    "#### **Data voor op dashboard**"
   ]
  },
  {
   "cell_type": "code",
   "execution_count": 427,
   "metadata": {},
   "outputs": [
    {
     "name": "stdout",
     "output_type": "stream",
     "text": [
      "6       283\n",
      "7       352\n",
      "8       347\n",
      "9       206\n",
      "10      285\n",
      "       ... \n",
      "1611    258\n",
      "1612    245\n",
      "1613    214\n",
      "1615    262\n",
      "1616    238\n",
      "Name: VCO2_MLMIN, Length: 1132, dtype: int64\n"
     ]
    }
   ],
   "source": [
    "# data op dashboard\n",
    "# Mannen en vrouwen \n",
    "geslacht_man = Data_patienten.loc[Data_patienten['GESLACHT'] == 'm']\n",
    "geslacht_vrouw = Data_patienten.loc[Data_patienten['GESLACHT'] == 'v']\n",
    "\n",
    "# Aantal mannen en vrouwen\n",
    "aantal_mannen = len(geslacht_man.index)\n",
    "aantal_vrouwen = len(geslacht_vrouw.index)\n",
    "totaal_patienten = aantal_vrouwen + aantal_mannen\n",
    "\n",
    "# percentage mannen en vrouwen\n",
    "percentage_mannen = aantal_mannen / totaal_patienten * 100\n",
    "percentage_vrouwen = aantal_vrouwen / totaal_patienten * 100\n",
    "afgerond_percentage_mannen = round(percentage_mannen, 2)\n",
    "afgerond_percentage_vrouwen = round(percentage_vrouwen, 2)\n",
    "\n",
    "\n",
    "# gem leeftijd patienten \n",
    "leeftijd_patienten = Data_patienten['LEEFTIJD']\n",
    "gemiddelde_leeftijd_patienten = np.round(leeftijd_patienten.mean())\n",
    "\n",
    "# gemiddelde leeftijd mannen\n",
    "leeftijd_mannelijke_patienten = Data_patienten.loc[Data_patienten['GESLACHT'] == 'm', 'LEEFTIJD']\n",
    "gemiddelde_leeftijd_mannelijke_patienten = np.round(leeftijd_mannelijke_patienten.mean(), 2)\n",
    "\n",
    "# gemiddelde leeftijd vrouwen\n",
    "leeftijd_vrouwelijke_patienten = Data_patienten.loc[Data_patienten['GESLACHT'] == 'v', 'LEEFTIJD']\n",
    "gemiddelde_leeftijd_vrouwelijke_patienten = np.round(leeftijd_vrouwelijke_patienten.mean(), 2)\n",
    "\n",
    "\n",
    "# gewicht patienten\n",
    "gewicht = Data_patienten['GEWICHT']\n",
    "gemiddelde_gewicht = np.round(gewicht.mean())\n",
    "\n",
    "# gemiddeld gewicht mannen\n",
    "gewicht_mannen = Data_patienten.loc[Data_patienten['GESLACHT'] == 'm', 'GEWICHT']\n",
    "gemiddeld_gewicht_mannen = np.round(gewicht_mannen.mean(), 2)\n",
    "\n",
    "# gemiddeld gewicht vrouwen\n",
    "gewicht_vrouwen = Data_patienten.loc[Data_patienten['GESLACHT'] == 'v', 'GEWICHT']\n",
    "gemiddeld_gewicht_vrouwen = np.round(gewicht_vrouwen.mean(), 2)\n",
    "\n",
    "\n",
    "# gemiddelde lengte patienten\n",
    "lengte = Data_patienten['LENGTE']\n",
    "gemiddelde_lengte = np.round(lengte.mean())\n",
    "\n",
    "# gemiddelde lengte mannen\n",
    "lengte_mannen = Data_patienten.loc[Data_patienten['GESLACHT'] == 'm', 'LENGTE']\n",
    "gemiddelde_lengte_mannen = np.round(lengte_mannen.mean(), 2)\n",
    "\n",
    "# gemiddelde lengte vrouwen\n",
    "lengte_vrouwen = Data_patienten.loc[Data_patienten['GESLACHT'] == 'v', 'LENGTE']\n",
    "gemiddelde_lengte_vrouwen = np.round(lengte_vrouwen.mean(), 2)\n",
    "\n",
    "\n",
    "# gemiddelde apache IV score patienten\n",
    "apache = Data_patienten['APACHE_IV_SCORE']\n",
    "gemiddelde_apache = np.round(apache.mean())\n",
    "\n",
    "# gemiddelde apache IV score mannen\n",
    "apache_mannen = Data_patienten.loc[Data_patienten['GESLACHT'] == 'm', 'APACHE_IV_SCORE']\n",
    "gemiddelde_apache_mannen = np.round(apache_mannen.mean(), 2)\n",
    "\n",
    "# gemiddelde apache IV score vrouwen\n",
    "apache_vrouwen = Data_patienten.loc[Data_patienten['GESLACHT'] == 'v', 'APACHE_IV_SCORE']\n",
    "gemiddelde_apache_vrouwen = np.round(apache_vrouwen.mean(), 2)\n",
    "\n",
    "\n",
    "# BMI patienten\n",
    "gewicht_pat = Data_patienten['GEWICHT']\n",
    "lengte_pat = Data_patienten['LENGTE']\n",
    "\n",
    "# BMI \n",
    "bmi_patienten = gewicht / ((lengte / 100) ** 2)\n",
    "bmi_mannen = gewicht_mannen / ((lengte_mannen / 100) ** 2)\n",
    "bmi_vrouwen = gewicht_vrouwen / ((lengte_vrouwen / 100) ** 2)\n",
    "\n",
    "# Gemiddelde BMI \n",
    "gemiddelde_bmi_patienten = np.round(bmi_patienten.mean(), 2)\n",
    "gemiddelde_bmi_mannen = np.round(bmi_mannen.mean(), 2)\n",
    "gemiddelde_bmi_vrouwen = np.round(bmi_vrouwen.mean(), 2)\n",
    "\n",
    "\n",
    "# BMI en apache dataframe maken\n",
    "bmi_apache_data = pd.DataFrame()\n",
    "bmi_apache_data['PATIENT_ID'] = Data_patienten['PATIENT_ID']\n",
    "bmi_apache_data['GESLACHT'] = Data_patienten['GESLACHT']\n",
    "bmi_apache_data['GEWICHT'] = Data_patienten['GEWICHT']\n",
    "bmi_apache_data['LENGTE'] = Data_patienten['LENGTE']\n",
    "bmi_apache_data['APACHE_IV_SCORE'] = Data_patienten['APACHE_IV_SCORE']\n",
    "# BMI berekenen\n",
    "bmi_apache_data['BMI'] = bmi_apache_data['GEWICHT'] / ((bmi_apache_data['LENGTE'] / 100) ** 2)\n",
    "\n",
    "################################################ meetgegevens ##############################################################\n",
    "# patienten ID's die als bruikbaar waargenomen waren in Covid_patienten_export.tsv\n",
    "Data_patienten = patient.loc[patient['BRUIKBAAR'] == 'ja']\n",
    "\n",
    "# kolom selecteren met alleen 'PATIENT_ID'\n",
    "kolom = Data_patienten['PATIENT_ID']\n",
    "\n",
    "# kolom naar list converteren\n",
    "id_bruikbaar_gegevens = kolom.tolist()\n",
    "\n",
    "# toon id van alle meetgegevens\n",
    "unique_id_measurement = measurement['PATIENT_ID'].unique()\n",
    "\n",
    "# vergelijken alle id en bruikbare id\n",
    "set_welke_id = set(id_bruikbaar_gegevens)\n",
    "set_welke_id_2 = set(unique_id_measurement)\n",
    "verschil_measurement_id = set_welke_id_2.difference(set_welke_id)\n",
    "niet_gebruiken_id = verschil_measurement_id\n",
    "gewenste_meetgegevens = measurement[~measurement['PATIENT_ID'].isin(niet_gebruiken_id)]\n"
   ]
  }
 ],
 "metadata": {
  "kernelspec": {
   "display_name": "Python 3",
   "language": "python",
   "name": "python3"
  },
  "language_info": {
   "codemirror_mode": {
    "name": "ipython",
    "version": 3
   },
   "file_extension": ".py",
   "mimetype": "text/x-python",
   "name": "python",
   "nbconvert_exporter": "python",
   "pygments_lexer": "ipython3",
   "version": "3.10.7"
  }
 },
 "nbformat": 4,
 "nbformat_minor": 2
}
